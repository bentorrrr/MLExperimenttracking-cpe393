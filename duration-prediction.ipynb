{
 "cells": [
  {
   "cell_type": "code",
   "execution_count": 1,
   "id": "69f0e75261ef1ccb",
   "metadata": {
    "ExecuteTime": {
     "end_time": "2025-03-16T12:39:25.740286Z",
     "start_time": "2025-03-16T12:39:24.342380Z"
    },
    "collapsed": false
   },
   "outputs": [
    {
     "name": "stdout",
     "output_type": "stream",
     "text": [
      "Requirement already satisfied: seaborn in c:\\users\\cpe kmutt\\documents\\git\\cpe393-mlops\\mlexperimenttracking-cpe393\\.venv\\lib\\site-packages (0.13.2)\n",
      "Requirement already satisfied: numpy!=1.24.0,>=1.20 in c:\\users\\cpe kmutt\\documents\\git\\cpe393-mlops\\mlexperimenttracking-cpe393\\.venv\\lib\\site-packages (from seaborn) (2.2.4)\n",
      "Requirement already satisfied: pandas>=1.2 in c:\\users\\cpe kmutt\\documents\\git\\cpe393-mlops\\mlexperimenttracking-cpe393\\.venv\\lib\\site-packages (from seaborn) (2.2.3)\n",
      "Requirement already satisfied: matplotlib!=3.6.1,>=3.4 in c:\\users\\cpe kmutt\\documents\\git\\cpe393-mlops\\mlexperimenttracking-cpe393\\.venv\\lib\\site-packages (from seaborn) (3.10.1)\n",
      "Requirement already satisfied: contourpy>=1.0.1 in c:\\users\\cpe kmutt\\documents\\git\\cpe393-mlops\\mlexperimenttracking-cpe393\\.venv\\lib\\site-packages (from matplotlib!=3.6.1,>=3.4->seaborn) (1.3.1)\n",
      "Requirement already satisfied: cycler>=0.10 in c:\\users\\cpe kmutt\\documents\\git\\cpe393-mlops\\mlexperimenttracking-cpe393\\.venv\\lib\\site-packages (from matplotlib!=3.6.1,>=3.4->seaborn) (0.12.1)\n",
      "Requirement already satisfied: fonttools>=4.22.0 in c:\\users\\cpe kmutt\\documents\\git\\cpe393-mlops\\mlexperimenttracking-cpe393\\.venv\\lib\\site-packages (from matplotlib!=3.6.1,>=3.4->seaborn) (4.56.0)\n",
      "Requirement already satisfied: kiwisolver>=1.3.1 in c:\\users\\cpe kmutt\\documents\\git\\cpe393-mlops\\mlexperimenttracking-cpe393\\.venv\\lib\\site-packages (from matplotlib!=3.6.1,>=3.4->seaborn) (1.4.8)\n",
      "Requirement already satisfied: packaging>=20.0 in c:\\users\\cpe kmutt\\documents\\git\\cpe393-mlops\\mlexperimenttracking-cpe393\\.venv\\lib\\site-packages (from matplotlib!=3.6.1,>=3.4->seaborn) (24.2)\n",
      "Requirement already satisfied: pillow>=8 in c:\\users\\cpe kmutt\\documents\\git\\cpe393-mlops\\mlexperimenttracking-cpe393\\.venv\\lib\\site-packages (from matplotlib!=3.6.1,>=3.4->seaborn) (11.1.0)\n",
      "Requirement already satisfied: pyparsing>=2.3.1 in c:\\users\\cpe kmutt\\documents\\git\\cpe393-mlops\\mlexperimenttracking-cpe393\\.venv\\lib\\site-packages (from matplotlib!=3.6.1,>=3.4->seaborn) (3.2.1)\n",
      "Requirement already satisfied: python-dateutil>=2.7 in c:\\users\\cpe kmutt\\documents\\git\\cpe393-mlops\\mlexperimenttracking-cpe393\\.venv\\lib\\site-packages (from matplotlib!=3.6.1,>=3.4->seaborn) (2.9.0.post0)\n",
      "Requirement already satisfied: pytz>=2020.1 in c:\\users\\cpe kmutt\\documents\\git\\cpe393-mlops\\mlexperimenttracking-cpe393\\.venv\\lib\\site-packages (from pandas>=1.2->seaborn) (2025.1)\n",
      "Requirement already satisfied: tzdata>=2022.7 in c:\\users\\cpe kmutt\\documents\\git\\cpe393-mlops\\mlexperimenttracking-cpe393\\.venv\\lib\\site-packages (from pandas>=1.2->seaborn) (2025.1)\n",
      "Requirement already satisfied: six>=1.5 in c:\\users\\cpe kmutt\\documents\\git\\cpe393-mlops\\mlexperimenttracking-cpe393\\.venv\\lib\\site-packages (from python-dateutil>=2.7->matplotlib!=3.6.1,>=3.4->seaborn) (1.17.0)\n",
      "Note: you may need to restart the kernel to use updated packages.\n"
     ]
    },
    {
     "name": "stderr",
     "output_type": "stream",
     "text": [
      "\n",
      "[notice] A new release of pip is available: 24.0 -> 25.0.1\n",
      "[notice] To update, run: python.exe -m pip install --upgrade pip\n"
     ]
    }
   ],
   "source": [
    "%pip install seaborn"
   ]
  },
  {
   "cell_type": "code",
   "execution_count": 2,
   "id": "initial_id",
   "metadata": {
    "ExecuteTime": {
     "end_time": "2025-03-16T12:39:29.102075Z",
     "start_time": "2025-03-16T12:39:27.042148Z"
    },
    "collapsed": true
   },
   "outputs": [],
   "source": [
    "import pandas as pd # working with tabular data\n",
    "import pickle # for machine learning models\n",
    "import seaborn as sns # visualization\n",
    "import matplotlib.pyplot as plt # visualization\n",
    "\n",
    "from sklearn.feature_extraction import DictVectorizer # Machine Learning\n",
    "from sklearn.linear_model import LinearRegression # Machine Learning\n",
    "from sklearn.linear_model import Lasso # Regularization\n",
    "from sklearn.linear_model import Ridge # Regularization\n",
    "\n",
    "from sklearn.metrics import mean_squared_error # Loss Function"
   ]
  },
  {
   "cell_type": "code",
   "execution_count": 3,
   "id": "8a2c0b2298fd95d3",
   "metadata": {
    "ExecuteTime": {
     "end_time": "2025-03-16T12:39:42.070015Z",
     "start_time": "2025-03-16T12:39:40.901374Z"
    },
    "collapsed": false
   },
   "outputs": [
    {
     "data": {
      "text/plain": [
       "<Experiment: artifact_location=('file:///c:/Users/CPE '\n",
       " 'KMUTT/Documents/git/CPE393-MLOps/MLExperimenttracking-cpe393/mlruns/1'), creation_time=1742459591224, experiment_id='1', last_update_time=1742459591224, lifecycle_stage='active', name='mlops_nyc_taxi', tags={}>"
      ]
     },
     "execution_count": 3,
     "metadata": {},
     "output_type": "execute_result"
    }
   ],
   "source": [
    "import mlflow\n",
    "\n",
    "# to hook up with MLFlow UI\n",
    "mlflow.set_tracking_uri(\"sqlite:///mlflow.db\")\n",
    "mlflow.set_experiment(\"mlops_nyc_taxi\") # choose a name for your experiment"
   ]
  },
  {
   "cell_type": "code",
   "execution_count": 4,
   "id": "f5bbf109e081c7bb",
   "metadata": {
    "ExecuteTime": {
     "end_time": "2025-03-16T12:41:30.570575Z",
     "start_time": "2025-03-16T12:41:23.303737Z"
    },
    "collapsed": false
   },
   "outputs": [
    {
     "name": "stderr",
     "output_type": "stream",
     "text": [
      "'wget' is not recognized as an internal or external command,\n",
      "operable program or batch file.\n"
     ]
    }
   ],
   "source": [
    "!wget https://d37ci6vzurychx.cloudfront.net/trip-data/yellow_tripdata_2022-01.parquet https://d37ci6vzurychx.cloudfront.net/trip-data/yellow_tripdata_2022-02.parquet"
   ]
  },
  {
   "cell_type": "code",
   "execution_count": 5,
   "id": "6b2c8a8a4369d6c2",
   "metadata": {
    "ExecuteTime": {
     "end_time": "2025-03-16T12:42:23.438189Z",
     "start_time": "2025-03-16T12:42:23.435710Z"
    },
    "collapsed": false
   },
   "outputs": [],
   "source": [
    "def read_dataframe(filename):\n",
    "    if filename.endswith('.csv'):\n",
    "        df = pd.read_csv(filename)\n",
    "\n",
    "        df.tpep_dropoff_datetime = pd.to_datetime(df.tpep_dropoff_datetime)\n",
    "        df.tpep_pickup_datetime = pd.to_datetime(df.tpep_pickup_datetime)\n",
    "    elif filename.endswith('.parquet'):\n",
    "        df = pd.read_parquet(filename)\n",
    "\n",
    "    df['duration'] = df.tpep_dropoff_datetime - df.tpep_pickup_datetime\n",
    "    df.duration = df.duration.apply(lambda td: td.total_seconds() / 60)\n",
    "\n",
    "    df = df[(df.duration >= 1) & (df.duration <= 60)]\n",
    "\n",
    "    categorical = ['PULocationID', 'DOLocationID']\n",
    "    df[categorical] = df[categorical].astype(str)\n",
    "    \n",
    "    return df"
   ]
  },
  {
   "cell_type": "code",
   "execution_count": 6,
   "id": "f4a3eb6595cc7c02",
   "metadata": {
    "ExecuteTime": {
     "end_time": "2025-03-16T12:42:46.238750Z",
     "start_time": "2025-03-16T12:42:36.808654Z"
    },
    "collapsed": false
   },
   "outputs": [],
   "source": [
    "df_train = read_dataframe('yellow_tripdata_2022-01.parquet')\n",
    "df_val = read_dataframe('yellow_tripdata_2022-02.parquet')"
   ]
  },
  {
   "cell_type": "code",
   "execution_count": 7,
   "id": "d4f71a57fffaba5c",
   "metadata": {
    "ExecuteTime": {
     "end_time": "2025-03-16T12:42:49.836736Z",
     "start_time": "2025-03-16T12:42:49.833180Z"
    },
    "collapsed": false
   },
   "outputs": [
    {
     "data": {
      "text/plain": [
       "(2421440, 2918187)"
      ]
     },
     "execution_count": 7,
     "metadata": {},
     "output_type": "execute_result"
    }
   ],
   "source": [
    "len(df_train), len(df_val)"
   ]
  },
  {
   "cell_type": "code",
   "execution_count": 8,
   "id": "900a478304cd48c0",
   "metadata": {
    "ExecuteTime": {
     "end_time": "2025-03-16T12:45:26.486302Z",
     "start_time": "2025-03-16T12:45:25.558122Z"
    },
    "collapsed": false
   },
   "outputs": [],
   "source": [
    "df_train['PU_DO'] = df_train['PULocationID'] + '_' + df_train['DOLocationID']\n",
    "df_val['PU_DO'] = df_val['PULocationID'] + '_' + df_val['DOLocationID']"
   ]
  },
  {
   "cell_type": "code",
   "execution_count": 9,
   "id": "8b7f78edf56843c8",
   "metadata": {
    "ExecuteTime": {
     "end_time": "2025-03-16T12:45:44.967760Z",
     "start_time": "2025-03-16T12:45:34.871580Z"
    },
    "collapsed": false
   },
   "outputs": [],
   "source": [
    "categorical = ['PU_DO'] #'PULocationID', 'DOLocationID']\n",
    "numerical = ['trip_distance']\n",
    "\n",
    "dv = DictVectorizer()\n",
    "\n",
    "train_dicts = df_train[categorical + numerical].to_dict(orient='records')\n",
    "X_train = dv.fit_transform(train_dicts)\n",
    "\n",
    "val_dicts = df_val[categorical + numerical].to_dict(orient='records')\n",
    "X_val = dv.transform(val_dicts)"
   ]
  },
  {
   "cell_type": "code",
   "execution_count": 10,
   "id": "6097f8a680f5474f",
   "metadata": {
    "ExecuteTime": {
     "end_time": "2025-03-16T12:45:47.220635Z",
     "start_time": "2025-03-16T12:45:47.216488Z"
    },
    "collapsed": false
   },
   "outputs": [],
   "source": [
    "target = 'duration'\n",
    "y_train = df_train[target].values\n",
    "y_val = df_val[target].values"
   ]
  },
  {
   "cell_type": "code",
   "execution_count": 11,
   "id": "c37cf9c03e797939",
   "metadata": {
    "ExecuteTime": {
     "end_time": "2025-03-16T12:46:57.688380Z",
     "start_time": "2025-03-16T12:46:56.540954Z"
    },
    "collapsed": false
   },
   "outputs": [
    {
     "data": {
      "text/plain": [
       "30.588143613519556"
      ]
     },
     "execution_count": 11,
     "metadata": {},
     "output_type": "execute_result"
    }
   ],
   "source": [
    "lr = LinearRegression()\n",
    "lr.fit(X_train, y_train)\n",
    "\n",
    "y_pred = lr.predict(X_val)\n",
    "\n",
    "mean_squared_error(y_val, y_pred)"
   ]
  },
  {
   "cell_type": "code",
   "execution_count": 12,
   "id": "35ad188614e38ec9",
   "metadata": {
    "ExecuteTime": {
     "end_time": "2025-03-16T12:47:26.294040Z",
     "start_time": "2025-03-16T12:47:26.236764Z"
    },
    "collapsed": false
   },
   "outputs": [
    {
     "name": "stdout",
     "output_type": "stream",
     "text": [
      "Model successfully pickled.\n"
     ]
    }
   ],
   "source": [
    "with open('./lin_reg.bin', 'wb') as f_out: # wb means write binary mlops-zoomcamp/week_1/models\n",
    "    try:\n",
    "        # Pickle both the dictionary vectorizer and the linear regression model\n",
    "        pickle.dump((dv, lr), f_out)\n",
    "        print(\"Model successfully pickled.\")\n",
    "    except Exception as e:\n",
    "        print(\"Error occurred while pickling the model:\", str(e))"
   ]
  },
  {
   "cell_type": "code",
   "execution_count": null,
   "id": "d3075661bfd28ab7",
   "metadata": {
    "ExecuteTime": {
     "end_time": "2025-03-16T12:50:39.902984Z",
     "start_time": "2025-03-16T12:50:34.853117Z"
    },
    "collapsed": false
   },
   "outputs": [
    {
     "name": "stdout",
     "output_type": "stream",
     "text": [
      "Requirement already satisfied: xgboost in c:\\users\\cpe kmutt\\documents\\git\\cpe393-mlops\\mlexperimenttracking-cpe393\\.venv\\lib\\site-packages (3.0.0)\n",
      "Requirement already satisfied: numpy in c:\\users\\cpe kmutt\\documents\\git\\cpe393-mlops\\mlexperimenttracking-cpe393\\.venv\\lib\\site-packages (from xgboost) (2.2.4)\n",
      "Requirement already satisfied: scipy in c:\\users\\cpe kmutt\\documents\\git\\cpe393-mlops\\mlexperimenttracking-cpe393\\.venv\\lib\\site-packages (from xgboost) (1.15.2)\n",
      "Note: you may need to restart the kernel to use updated packages.\n"
     ]
    },
    {
     "name": "stderr",
     "output_type": "stream",
     "text": [
      "\n",
      "[notice] A new release of pip is available: 24.0 -> 25.0.1\n",
      "[notice] To update, run: python.exe -m pip install --upgrade pip\n"
     ]
    },
    {
     "name": "stdout",
     "output_type": "stream",
     "text": [
      "Requirement already satisfied: hyperopt in c:\\users\\cpe kmutt\\documents\\git\\cpe393-mlops\\mlexperimenttracking-cpe393\\.venv\\lib\\site-packages (0.2.7)\n",
      "Requirement already satisfied: numpy in c:\\users\\cpe kmutt\\documents\\git\\cpe393-mlops\\mlexperimenttracking-cpe393\\.venv\\lib\\site-packages (from hyperopt) (2.2.4)\n",
      "Requirement already satisfied: scipy in c:\\users\\cpe kmutt\\documents\\git\\cpe393-mlops\\mlexperimenttracking-cpe393\\.venv\\lib\\site-packages (from hyperopt) (1.15.2)\n",
      "Requirement already satisfied: six in c:\\users\\cpe kmutt\\documents\\git\\cpe393-mlops\\mlexperimenttracking-cpe393\\.venv\\lib\\site-packages (from hyperopt) (1.17.0)\n",
      "Requirement already satisfied: networkx>=2.2 in c:\\users\\cpe kmutt\\documents\\git\\cpe393-mlops\\mlexperimenttracking-cpe393\\.venv\\lib\\site-packages (from hyperopt) (3.4.2)\n",
      "Requirement already satisfied: future in c:\\users\\cpe kmutt\\documents\\git\\cpe393-mlops\\mlexperimenttracking-cpe393\\.venv\\lib\\site-packages (from hyperopt) (1.0.0)\n",
      "Requirement already satisfied: tqdm in c:\\users\\cpe kmutt\\documents\\git\\cpe393-mlops\\mlexperimenttracking-cpe393\\.venv\\lib\\site-packages (from hyperopt) (4.67.1)\n",
      "Requirement already satisfied: cloudpickle in c:\\users\\cpe kmutt\\documents\\git\\cpe393-mlops\\mlexperimenttracking-cpe393\\.venv\\lib\\site-packages (from hyperopt) (3.1.1)\n",
      "Requirement already satisfied: py4j in c:\\users\\cpe kmutt\\documents\\git\\cpe393-mlops\\mlexperimenttracking-cpe393\\.venv\\lib\\site-packages (from hyperopt) (0.10.9.9)\n",
      "Requirement already satisfied: colorama in c:\\users\\cpe kmutt\\documents\\git\\cpe393-mlops\\mlexperimenttracking-cpe393\\.venv\\lib\\site-packages (from tqdm->hyperopt) (0.4.6)\n",
      "Note: you may need to restart the kernel to use updated packages.\n"
     ]
    },
    {
     "name": "stderr",
     "output_type": "stream",
     "text": [
      "\n",
      "[notice] A new release of pip is available: 24.0 -> 25.0.1\n",
      "[notice] To update, run: python.exe -m pip install --upgrade pip\n"
     ]
    },
    {
     "name": "stdout",
     "output_type": "stream",
     "text": [
      "Note: you may need to restart the kernel to use updated packages.\n"
     ]
    },
    {
     "name": "stderr",
     "output_type": "stream",
     "text": [
      "ERROR: Could not find a version that satisfies the requirement pkg_resources (from versions: none)\n",
      "ERROR: No matching distribution found for pkg_resources\n",
      "\n",
      "[notice] A new release of pip is available: 24.0 -> 25.0.1\n",
      "[notice] To update, run: python.exe -m pip install --upgrade pip\n"
     ]
    }
   ],
   "source": [
    "%pip install xgboost\n",
    "%pip install hyperopt"
   ]
  },
  {
   "cell_type": "code",
   "execution_count": 18,
   "id": "1f3a2e0f357bdd85",
   "metadata": {
    "ExecuteTime": {
     "end_time": "2025-03-16T12:50:43.574578Z",
     "start_time": "2025-03-16T12:50:42.913133Z"
    },
    "collapsed": false
   },
   "outputs": [],
   "source": [
    "# import required modules\n",
    "import xgboost as xgb\n",
    "\n",
    "from hyperopt import fmin, tpe, hp, STATUS_OK, Trials # some methods to optimize hyperparameters\n",
    "from hyperopt.pyll import scope"
   ]
  },
  {
   "cell_type": "code",
   "execution_count": 19,
   "id": "d214383a81e8907",
   "metadata": {
    "ExecuteTime": {
     "end_time": "2025-03-16T12:51:08.315101Z",
     "start_time": "2025-03-16T12:51:08.151447Z"
    },
    "collapsed": false
   },
   "outputs": [],
   "source": [
    "train = xgb.DMatrix(X_train, label=y_train)\n",
    "valid = xgb.DMatrix(X_val, label=y_val)"
   ]
  },
  {
   "cell_type": "code",
   "execution_count": 20,
   "id": "5cf77fe02351233c",
   "metadata": {
    "ExecuteTime": {
     "end_time": "2025-03-16T12:52:10.714184Z",
     "start_time": "2025-03-16T12:52:10.711042Z"
    },
    "collapsed": false
   },
   "outputs": [],
   "source": [
    "# Objective function - set the parameters for this specific run\n",
    "def objective(params): \n",
    "    \n",
    "    with mlflow.start_run():\n",
    "        mlflow.set_tag(\"model\", \"xgboost\")\n",
    "        mlflow.log_params(params) \n",
    "        booster = xgb.train(\n",
    "            params=params,\n",
    "            dtrain=train, # model trained on training set\n",
    "            num_boost_round=3, # restricted due to time constraints - a value of 1000 iterations is common\n",
    "            evals=[(valid, 'validation')], # model evaluated on validation set\n",
    "            early_stopping_rounds=3 # if no improvements after 3 iterations, stop running # restricted, time constraints\n",
    "        )\n",
    "        y_pred = booster.predict(valid)\n",
    "        rmse = mean_squared_error(y_val, y_pred)\n",
    "        mlflow.log_metric(\"rmse\", rmse)\n",
    "\n",
    "    return {'loss': rmse, 'status': STATUS_OK}"
   ]
  },
  {
   "cell_type": "code",
   "execution_count": 26,
   "id": "306706eda0196304",
   "metadata": {
    "ExecuteTime": {
     "end_time": "2025-03-16T12:52:50.327863Z",
     "start_time": "2025-03-16T12:52:13.126121Z"
    },
    "collapsed": false
   },
   "outputs": [
    {
     "name": "stdout",
     "output_type": "stream",
     "text": [
      "  0%|          | 0/3 [00:00<?, ?trial/s, best loss=?]"
     ]
    },
    {
     "name": "stderr",
     "output_type": "stream",
     "text": [
      "c:\\Users\\CPE KMUTT\\Documents\\git\\CPE393-MLOps\\MLExperimenttracking-cpe393\\.venv\\Lib\\site-packages\\xgboost\\callback.py:386: UserWarning: [16:08:09] WARNING: C:\\actions-runner\\_work\\xgboost\\xgboost\\src\\objective\\regression_obj.cu:250: reg:linear is now deprecated in favor of reg:squarederror.\n",
      "  self.starting_round = model.num_boosted_rounds()\n",
      "\n"
     ]
    },
    {
     "name": "stdout",
     "output_type": "stream",
     "text": [
      "[0]\tvalidation-rmse:7.56737                          \n",
      "[1]\tvalidation-rmse:6.43307                          \n",
      "[2]\tvalidation-rmse:5.85924                          \n",
      " 33%|███▎      | 1/3 [00:06<00:13,  6.71s/trial, best loss: 34.33068956099385]"
     ]
    },
    {
     "name": "stderr",
     "output_type": "stream",
     "text": [
      "c:\\Users\\CPE KMUTT\\Documents\\git\\CPE393-MLOps\\MLExperimenttracking-cpe393\\.venv\\Lib\\site-packages\\xgboost\\callback.py:386: UserWarning: [16:08:16] WARNING: C:\\actions-runner\\_work\\xgboost\\xgboost\\src\\objective\\regression_obj.cu:250: reg:linear is now deprecated in favor of reg:squarederror.\n",
      "  self.starting_round = model.num_boosted_rounds()\n",
      "\n"
     ]
    },
    {
     "name": "stdout",
     "output_type": "stream",
     "text": [
      "[0]\tvalidation-rmse:9.35416                                                   \n",
      "[1]\tvalidation-rmse:9.02533                                                   \n",
      "[2]\tvalidation-rmse:8.72066                                                   \n",
      " 67%|██████▋   | 2/3 [00:17<00:09,  9.28s/trial, best loss: 34.33068956099385]"
     ]
    },
    {
     "name": "stderr",
     "output_type": "stream",
     "text": [
      "c:\\Users\\CPE KMUTT\\Documents\\git\\CPE393-MLOps\\MLExperimenttracking-cpe393\\.venv\\Lib\\site-packages\\xgboost\\callback.py:386: UserWarning: [16:08:27] WARNING: C:\\actions-runner\\_work\\xgboost\\xgboost\\src\\objective\\regression_obj.cu:250: reg:linear is now deprecated in favor of reg:squarederror.\n",
      "  self.starting_round = model.num_boosted_rounds()\n",
      "\n"
     ]
    },
    {
     "name": "stdout",
     "output_type": "stream",
     "text": [
      "[0]\tvalidation-rmse:9.21262                                                   \n",
      "[1]\tvalidation-rmse:8.76487                                                   \n",
      "[2]\tvalidation-rmse:8.36108                                                   \n",
      "100%|██████████| 3/3 [6:56:37<00:00, 8332.56s/trial, best loss: 34.33068956099385] \n"
     ]
    }
   ],
   "source": [
    "# Set the range of the hyperparameter optimization search\n",
    "search_space = {\n",
    "    'max_depth': scope.int(hp.quniform('max_depth', 4, 100, 1)), # tree depth 4 to 100. Returns float, so convert to integer\n",
    "    'learning_rate': hp.loguniform('learning_rate', -3, 0), # range exp(-3), exp(0) which is (0.049787, 1.0)\n",
    "    'reg_alpha': hp.loguniform('reg_alpha', -5, -1), # range exp(-5), exp(-1) which is (0.006738, 0.367879)\n",
    "    'reg_lambda': hp.loguniform('reg_lambda', -6, -1), # range exp(-6), exp(-1) which is (0.002479, 0.367879)\n",
    "    'min_child_weight': hp.loguniform('min_child_weight', -1, 3), # range exp(-1), exp(3) which is (0.367879, 20.085537)\n",
    "    'objective': 'reg:linear',\n",
    "    'seed': 42\n",
    "}\n",
    "\n",
    "\n",
    "best_result = fmin( # imported above\n",
    "    fn=objective,\n",
    "    space=search_space, # as defined above\n",
    "    algo=tpe.suggest, # tpe is the algorithm used for optimization\n",
    "    max_evals=3, #restricted, time constraints\n",
    "    trials=Trials()\n",
    ")\n",
    "\n",
    "with open(\"best_result.pkl\", \"wb\") as f_out:\n",
    "  pickle.dump(best_result, f_out)\n",
    "\n",
    "mlflow.log_artifact(\"best_result.pkl\", artifact_path=\"best_result\")\n"
   ]
  },
  {
   "cell_type": "code",
   "execution_count": 22,
   "id": "4d0c1f3fdc43bb7",
   "metadata": {
    "ExecuteTime": {
     "end_time": "2025-03-16T15:07:25.444890Z",
     "start_time": "2025-03-16T15:07:25.426878Z"
    },
    "collapsed": false
   },
   "outputs": [],
   "source": [
    "mlflow.xgboost.autolog(disable=True) # MLflow will not store parameters automatically - these will have to be requested"
   ]
  },
  {
   "cell_type": "code",
   "execution_count": 23,
   "id": "38e65e49cbb4b1de",
   "metadata": {
    "ExecuteTime": {
     "end_time": "2025-03-16T15:09:13.912760Z",
     "start_time": "2025-03-16T15:09:13.909993Z"
    },
    "collapsed": false
   },
   "outputs": [],
   "source": [
    "#best params\n",
    "\n",
    "params = {\n",
    "    'learning_rate': 0.33500504398153885,\n",
    "    'max_depth': 74,\n",
    "    'min_child_weight': 3.4593376740383635,\n",
    "    'objective': 'reg:linear',\n",
    "    'reg_alpha': 0.02439429006088758,\n",
    "    'reg_lambda': 0.0029162481576915956,\n",
    "    'seed': 42   \n",
    "}"
   ]
  },
  {
   "cell_type": "code",
   "execution_count": 24,
   "id": "31176e7788771624",
   "metadata": {
    "ExecuteTime": {
     "end_time": "2025-03-16T15:11:38.731228Z",
     "start_time": "2025-03-16T15:11:20.019015Z"
    },
    "collapsed": false
   },
   "outputs": [
    {
     "name": "stderr",
     "output_type": "stream",
     "text": [
      "c:\\Users\\CPE KMUTT\\Documents\\git\\CPE393-MLOps\\MLExperimenttracking-cpe393\\.venv\\Lib\\site-packages\\xgboost\\callback.py:386: UserWarning: [15:47:12] WARNING: C:\\actions-runner\\_work\\xgboost\\xgboost\\src\\objective\\regression_obj.cu:250: reg:linear is now deprecated in favor of reg:squarederror.\n",
      "  self.starting_round = model.num_boosted_rounds()\n"
     ]
    },
    {
     "name": "stdout",
     "output_type": "stream",
     "text": [
      "[0]\tvalidation-rmse:7.64848\n",
      "[1]\tvalidation-rmse:6.47024\n",
      "[2]\tvalidation-rmse:5.82476\n"
     ]
    },
    {
     "name": "stderr",
     "output_type": "stream",
     "text": [
      "c:\\Users\\CPE KMUTT\\Documents\\git\\CPE393-MLOps\\MLExperimenttracking-cpe393\\.venv\\Lib\\site-packages\\mlflow\\xgboost\\__init__.py:168: UserWarning: [15:50:50] WARNING: C:\\actions-runner\\_work\\xgboost\\xgboost\\src\\c_api\\c_api.cc:1427: Saving model in the UBJSON format as default.  You can use file extension: `json`, `ubj` or `deprecated` to choose between formats.\n",
      "  xgb_model.save_model(model_data_path)\n",
      "2025/03/20 15:51:04 WARNING mlflow.models.model: Model logged without a signature and input example. Please set `input_example` parameter when logging the model to auto infer the model signature.\n"
     ]
    }
   ],
   "source": [
    "with mlflow.start_run():\n",
    "    \n",
    "    train = xgb.DMatrix(X_train, label=y_train)\n",
    "    valid = xgb.DMatrix(X_val, label=y_val)\n",
    "\n",
    "    best_params = {\n",
    "        'learning_rate': 0.4434065752589766,\n",
    "        'max_depth': 81,\n",
    "        'min_child_weight': 10.423237853746643,\n",
    "        'objective': 'reg:linear',\n",
    "        'reg_alpha': 0.2630756846813668,\n",
    "        'reg_lambda': 0.1220536223877784,\n",
    "        'seed': 42    \n",
    "    }\n",
    "\n",
    "    mlflow.log_params(best_params)\n",
    "\n",
    "    booster = xgb.train(\n",
    "        params=params,\n",
    "        dtrain=train, # model trained on training set\n",
    "        num_boost_round=3, # restricted due to time constraints - a value of 1000 iterations is common\n",
    "        evals=[(valid, 'validation')], # model evaluated on validation set\n",
    "        early_stopping_rounds=3 # if no improvements after 3 iterations, stop running # restricted, time constraints\n",
    "        )\n",
    "\n",
    "    y_pred = booster.predict(valid)\n",
    "    rmse = mean_squared_error(y_val, y_pred)\n",
    "    mlflow.log_metric(\"rmse\", rmse)\n",
    "\n",
    "    with open(\"preprocessor.b\", \"wb\") as f_out: # save pre-processing as a model\n",
    "        pickle.dump(dv, f_out)\n",
    "        \n",
    "    mlflow.log_artifact(\"preprocessor.b\", artifact_path=\"preprocessor\") # we can isolate the pre-processing from raw data\n",
    "    mlflow.xgboost.log_model(booster, artifact_path=\"models_mlflow\") "
   ]
  },
  {
   "cell_type": "code",
   "execution_count": 25,
   "id": "b983d4b2538c548",
   "metadata": {
    "ExecuteTime": {
     "end_time": "2025-03-16T15:14:00.850105Z",
     "start_time": "2025-03-16T15:14:00.775616Z"
    },
    "collapsed": false
   },
   "outputs": [
    {
     "ename": "OSError",
     "evalue": "No such file or directory: 'mlruns\\1\\b0cbc283e72241b99cf27d0352dc1088\\artifacts\\models_mlflow'",
     "output_type": "error",
     "traceback": [
      "\u001b[31m---------------------------------------------------------------------------\u001b[39m",
      "\u001b[31mOSError\u001b[39m                                   Traceback (most recent call last)",
      "\u001b[36mCell\u001b[39m\u001b[36m \u001b[39m\u001b[32mIn[25]\u001b[39m\u001b[32m, line 4\u001b[39m\n\u001b[32m      1\u001b[39m logged_model = \u001b[33m'\u001b[39m\u001b[33mmlruns/1/b0cbc283e72241b99cf27d0352dc1088/artifacts/models_mlflow\u001b[39m\u001b[33m'\u001b[39m\n\u001b[32m      3\u001b[39m \u001b[38;5;66;03m# Load model as a PyFuncModel.\u001b[39;00m\n\u001b[32m----> \u001b[39m\u001b[32m4\u001b[39m loaded_model = \u001b[43mmlflow\u001b[49m\u001b[43m.\u001b[49m\u001b[43mpyfunc\u001b[49m\u001b[43m.\u001b[49m\u001b[43mload_model\u001b[49m\u001b[43m(\u001b[49m\u001b[43mlogged_model\u001b[49m\u001b[43m)\u001b[49m\n",
      "\u001b[36mFile \u001b[39m\u001b[32mc:\\Users\\CPE KMUTT\\Documents\\git\\CPE393-MLOps\\MLExperimenttracking-cpe393\\.venv\\Lib\\site-packages\\mlflow\\tracing\\provider.py:422\u001b[39m, in \u001b[36mtrace_disabled.<locals>.wrapper\u001b[39m\u001b[34m(*args, **kwargs)\u001b[39m\n\u001b[32m    420\u001b[39m disable()\n\u001b[32m    421\u001b[39m \u001b[38;5;28;01mtry\u001b[39;00m:\n\u001b[32m--> \u001b[39m\u001b[32m422\u001b[39m     is_func_called, result = \u001b[38;5;28;01mTrue\u001b[39;00m, \u001b[43mf\u001b[49m\u001b[43m(\u001b[49m\u001b[43m*\u001b[49m\u001b[43margs\u001b[49m\u001b[43m,\u001b[49m\u001b[43m \u001b[49m\u001b[43m*\u001b[49m\u001b[43m*\u001b[49m\u001b[43mkwargs\u001b[49m\u001b[43m)\u001b[49m\n\u001b[32m    423\u001b[39m \u001b[38;5;28;01mfinally\u001b[39;00m:\n\u001b[32m    424\u001b[39m     enable()\n",
      "\u001b[36mFile \u001b[39m\u001b[32mc:\\Users\\CPE KMUTT\\Documents\\git\\CPE393-MLOps\\MLExperimenttracking-cpe393\\.venv\\Lib\\site-packages\\mlflow\\pyfunc\\__init__.py:1091\u001b[39m, in \u001b[36mload_model\u001b[39m\u001b[34m(model_uri, suppress_warnings, dst_path, model_config)\u001b[39m\n\u001b[32m   1087\u001b[39m         entity_list.append(Entity(job=job_entity))\n\u001b[32m   1089\u001b[39m     lineage_header_info = LineageHeaderInfo(entities=entity_list) \u001b[38;5;28;01mif\u001b[39;00m entity_list \u001b[38;5;28;01melse\u001b[39;00m \u001b[38;5;28;01mNone\u001b[39;00m\n\u001b[32m-> \u001b[39m\u001b[32m1091\u001b[39m local_path = \u001b[43m_download_artifact_from_uri\u001b[49m\u001b[43m(\u001b[49m\n\u001b[32m   1092\u001b[39m \u001b[43m    \u001b[49m\u001b[43martifact_uri\u001b[49m\u001b[43m=\u001b[49m\u001b[43mmodel_uri\u001b[49m\u001b[43m,\u001b[49m\u001b[43m \u001b[49m\u001b[43moutput_path\u001b[49m\u001b[43m=\u001b[49m\u001b[43mdst_path\u001b[49m\u001b[43m,\u001b[49m\u001b[43m \u001b[49m\u001b[43mlineage_header_info\u001b[49m\u001b[43m=\u001b[49m\u001b[43mlineage_header_info\u001b[49m\n\u001b[32m   1093\u001b[39m \u001b[43m\u001b[49m\u001b[43m)\u001b[49m\n\u001b[32m   1095\u001b[39m \u001b[38;5;28;01mif\u001b[39;00m \u001b[38;5;129;01mnot\u001b[39;00m suppress_warnings:\n\u001b[32m   1096\u001b[39m     model_requirements = _get_pip_requirements_from_model_path(local_path)\n",
      "\u001b[36mFile \u001b[39m\u001b[32mc:\\Users\\CPE KMUTT\\Documents\\git\\CPE393-MLOps\\MLExperimenttracking-cpe393\\.venv\\Lib\\site-packages\\mlflow\\tracking\\artifact_utils.py:116\u001b[39m, in \u001b[36m_download_artifact_from_uri\u001b[39m\u001b[34m(artifact_uri, output_path, lineage_header_info)\u001b[39m\n\u001b[32m    110\u001b[39m \u001b[38;5;28;01mif\u001b[39;00m \u001b[38;5;28misinstance\u001b[39m(repo, ModelsArtifactRepository):\n\u001b[32m    111\u001b[39m     \u001b[38;5;28;01mreturn\u001b[39;00m repo.download_artifacts(\n\u001b[32m    112\u001b[39m         artifact_path=artifact_path,\n\u001b[32m    113\u001b[39m         dst_path=output_path,\n\u001b[32m    114\u001b[39m         lineage_header_info=lineage_header_info,\n\u001b[32m    115\u001b[39m     )\n\u001b[32m--> \u001b[39m\u001b[32m116\u001b[39m \u001b[38;5;28;01mreturn\u001b[39;00m \u001b[43mrepo\u001b[49m\u001b[43m.\u001b[49m\u001b[43mdownload_artifacts\u001b[49m\u001b[43m(\u001b[49m\u001b[43martifact_path\u001b[49m\u001b[43m=\u001b[49m\u001b[43martifact_path\u001b[49m\u001b[43m,\u001b[49m\u001b[43m \u001b[49m\u001b[43mdst_path\u001b[49m\u001b[43m=\u001b[49m\u001b[43moutput_path\u001b[49m\u001b[43m)\u001b[49m\n",
      "\u001b[36mFile \u001b[39m\u001b[32mc:\\Users\\CPE KMUTT\\Documents\\git\\CPE393-MLOps\\MLExperimenttracking-cpe393\\.venv\\Lib\\site-packages\\mlflow\\store\\artifact\\local_artifact_repo.py:91\u001b[39m, in \u001b[36mLocalArtifactRepository.download_artifacts\u001b[39m\u001b[34m(self, artifact_path, dst_path)\u001b[39m\n\u001b[32m     89\u001b[39m local_artifact_path = os.path.join(\u001b[38;5;28mself\u001b[39m.artifact_dir, os.path.normpath(artifact_path))\n\u001b[32m     90\u001b[39m \u001b[38;5;28;01mif\u001b[39;00m \u001b[38;5;129;01mnot\u001b[39;00m os.path.exists(local_artifact_path):\n\u001b[32m---> \u001b[39m\u001b[32m91\u001b[39m     \u001b[38;5;28;01mraise\u001b[39;00m \u001b[38;5;167;01mOSError\u001b[39;00m(\u001b[33mf\u001b[39m\u001b[33m\"\u001b[39m\u001b[33mNo such file or directory: \u001b[39m\u001b[33m'\u001b[39m\u001b[38;5;132;01m{\u001b[39;00mlocal_artifact_path\u001b[38;5;132;01m}\u001b[39;00m\u001b[33m'\u001b[39m\u001b[33m\"\u001b[39m)\n\u001b[32m     92\u001b[39m \u001b[38;5;28;01mreturn\u001b[39;00m os.path.abspath(local_artifact_path)\n",
      "\u001b[31mOSError\u001b[39m: No such file or directory: 'mlruns\\1\\b0cbc283e72241b99cf27d0352dc1088\\artifacts\\models_mlflow'"
     ]
    }
   ],
   "source": [
    "logged_model = 'mlruns/1/b0cbc283e72241b99cf27d0352dc1088/artifacts/models_mlflow'\n",
    "\n",
    "# Load model as a PyFuncModel.\n",
    "loaded_model = mlflow.pyfunc.load_model(logged_model)"
   ]
  },
  {
   "cell_type": "code",
   "execution_count": null,
   "id": "4de1026eb964d99a",
   "metadata": {
    "ExecuteTime": {
     "end_time": "2025-03-16T15:14:13.755396Z",
     "start_time": "2025-03-16T15:14:13.746153Z"
    },
    "collapsed": false
   },
   "outputs": [
    {
     "data": {
      "text/plain": [
       "mlflow.pyfunc.loaded_model:\n",
       "  artifact_path: models_mlflow\n",
       "  flavor: mlflow.xgboost\n",
       "  run_id: b0cbc283e72241b99cf27d0352dc1088"
      ]
     },
     "execution_count": 30,
     "metadata": {},
     "output_type": "execute_result"
    }
   ],
   "source": [
    "loaded_model"
   ]
  },
  {
   "cell_type": "code",
   "execution_count": null,
   "id": "4988552239a2684e",
   "metadata": {
    "ExecuteTime": {
     "end_time": "2025-03-16T15:14:24.949944Z",
     "start_time": "2025-03-16T15:14:24.931426Z"
    },
    "collapsed": false
   },
   "outputs": [],
   "source": [
    "xgboost_model = mlflow.xgboost.load_model(logged_model)"
   ]
  },
  {
   "cell_type": "code",
   "execution_count": null,
   "id": "a8f1c6e1028afb68",
   "metadata": {
    "ExecuteTime": {
     "end_time": "2025-03-16T15:14:36.557689Z",
     "start_time": "2025-03-16T15:14:36.549781Z"
    },
    "collapsed": false
   },
   "outputs": [
    {
     "data": {
      "text/plain": [
       "<xgboost.core.Booster at 0x3f9623220>"
      ]
     },
     "execution_count": 32,
     "metadata": {},
     "output_type": "execute_result"
    }
   ],
   "source": [
    "xgboost_model"
   ]
  },
  {
   "cell_type": "code",
   "execution_count": null,
   "id": "64017f6d737f8437",
   "metadata": {
    "ExecuteTime": {
     "end_time": "2025-03-16T15:14:46.909599Z",
     "start_time": "2025-03-16T15:14:45.550416Z"
    },
    "collapsed": false
   },
   "outputs": [],
   "source": [
    "y_pred = xgboost_model.predict(valid)"
   ]
  },
  {
   "cell_type": "code",
   "execution_count": null,
   "id": "a3494f6266d092cd",
   "metadata": {
    "ExecuteTime": {
     "end_time": "2025-03-16T15:14:54.831297Z",
     "start_time": "2025-03-16T15:14:54.820281Z"
    },
    "collapsed": false
   },
   "outputs": [
    {
     "data": {
      "text/plain": [
       "array([14.190828, 18.68855 , 26.193169, 23.354773, 26.193169, 13.043591,\n",
       "       21.33266 ,  6.970524, 15.222571, 15.575311], dtype=float32)"
      ]
     },
     "execution_count": 34,
     "metadata": {},
     "output_type": "execute_result"
    }
   ],
   "source": [
    "# check the first 10\n",
    "y_pred[:10]"
   ]
  },
  {
   "cell_type": "markdown",
   "id": "54f67bd4d5eb5fb7",
   "metadata": {
    "collapsed": false
   },
   "source": [
    "Model Registry"
   ]
  },
  {
   "cell_type": "code",
   "execution_count": null,
   "id": "4d6155b9e858deae",
   "metadata": {
    "collapsed": false
   },
   "outputs": [],
   "source": []
  },
  {
   "cell_type": "code",
   "execution_count": null,
   "id": "94a67cde",
   "metadata": {},
   "outputs": [],
   "source": []
  }
 ],
 "metadata": {
  "kernelspec": {
   "display_name": ".venv",
   "language": "python",
   "name": "python3"
  },
  "language_info": {
   "codemirror_mode": {
    "name": "ipython",
    "version": 3
   },
   "file_extension": ".py",
   "mimetype": "text/x-python",
   "name": "python",
   "nbconvert_exporter": "python",
   "pygments_lexer": "ipython3",
   "version": "3.12.4"
  }
 },
 "nbformat": 4,
 "nbformat_minor": 5
}
