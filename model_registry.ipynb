{
 "cells": [
  {
   "cell_type": "code",
   "execution_count": 1,
   "id": "initial_id",
   "metadata": {
    "ExecuteTime": {
     "end_time": "2025-03-16T15:49:37.372682Z",
     "start_time": "2025-03-16T15:49:36.072369Z"
    },
    "collapsed": true
   },
   "outputs": [],
   "source": [
    "from mlflow.tracking import MlflowClient\n",
    "\n",
    "MLFLOW_TRACKING_URI = \"sqlite:///mlflow.db\""
   ]
  },
  {
   "cell_type": "code",
   "execution_count": 2,
   "id": "f30d9f40bd30bb2b",
   "metadata": {
    "ExecuteTime": {
     "end_time": "2025-03-16T15:49:53.248289Z",
     "start_time": "2025-03-16T15:49:52.886555Z"
    },
    "collapsed": false
   },
   "outputs": [
    {
     "data": {
      "text/plain": [
       "[<Experiment: artifact_location=('file:///c:/Users/CPE '\n",
       "  'KMUTT/Documents/git/CPE393-MLOps/MLExperimenttracking-cpe393/mlruns/2'), creation_time=1743001819999, experiment_id='2', last_update_time=1743001819999, lifecycle_stage='active', name='my-new-experiment', tags={}>,\n",
       " <Experiment: artifact_location=('file:///c:/Users/CPE '\n",
       "  'KMUTT/Documents/git/CPE393-MLOps/MLExperimenttracking-cpe393/mlruns/1'), creation_time=1742459591224, experiment_id='1', last_update_time=1742459591224, lifecycle_stage='active', name='mlops_nyc_taxi', tags={}>]"
      ]
     },
     "execution_count": 2,
     "metadata": {},
     "output_type": "execute_result"
    }
   ],
   "source": [
    "client = MlflowClient(tracking_uri=MLFLOW_TRACKING_URI)\n",
    "\n",
    "client.search_experiments()"
   ]
  },
  {
   "cell_type": "code",
   "execution_count": 3,
   "id": "1e41bfef1da117d2",
   "metadata": {
    "ExecuteTime": {
     "end_time": "2025-03-16T15:50:11.714688Z",
     "start_time": "2025-03-16T15:50:11.698987Z"
    },
    "collapsed": false
   },
   "outputs": [
    {
     "data": {
      "text/plain": [
       "'2'"
      ]
     },
     "execution_count": 3,
     "metadata": {},
     "output_type": "execute_result"
    }
   ],
   "source": [
    "client.create_experiment(name=\"my-new-experiment\")"
   ]
  },
  {
   "cell_type": "code",
   "execution_count": 3,
   "id": "e7965358afe3200b",
   "metadata": {
    "ExecuteTime": {
     "end_time": "2025-03-16T15:50:54.398721Z",
     "start_time": "2025-03-16T15:50:54.382003Z"
    },
    "collapsed": false
   },
   "outputs": [],
   "source": [
    "from mlflow.entities import ViewType\n",
    "\n",
    "runs = client.search_runs(\n",
    "    experiment_ids='1',\n",
    "    filter_string=\"metrics.rmse < 100\",\n",
    "    run_view_type=ViewType.ACTIVE_ONLY,\n",
    "    max_results=5,\n",
    "    order_by=[\"metrics.rmse ASC\"]\n",
    ")"
   ]
  },
  {
   "cell_type": "code",
   "execution_count": 4,
   "id": "52681452eed1388",
   "metadata": {
    "ExecuteTime": {
     "end_time": "2025-03-16T15:50:55.055949Z",
     "start_time": "2025-03-16T15:50:55.053464Z"
    },
    "collapsed": false
   },
   "outputs": [
    {
     "name": "stdout",
     "output_type": "stream",
     "text": [
      "run id: b12bc85f0f834ac5b449d9f6cf5b6ed1, rmse: 25.6204\n",
      "run id: 6f6ef3e0d34c48b9a6ea2fcf98e352b0, rmse: 25.9395\n",
      "run id: 22d9a6eef0fa468c859020629e0ace2c, rmse: 25.9395\n",
      "run id: 68418b15027b46acbdcf6311e572749d, rmse: 27.1123\n",
      "run id: 495ff13a14c84f4b82ceff41ae3ad286, rmse: 27.1290\n"
     ]
    }
   ],
   "source": [
    "for run in runs:\n",
    "    print(f\"run id: {run.info.run_id}, rmse: {run.data.metrics['rmse']:.4f}\")"
   ]
  },
  {
   "cell_type": "code",
   "execution_count": 5,
   "id": "1364b30512c67b1b",
   "metadata": {
    "ExecuteTime": {
     "end_time": "2025-03-16T15:51:27.949595Z",
     "start_time": "2025-03-16T15:51:27.945794Z"
    },
    "collapsed": false
   },
   "outputs": [],
   "source": [
    "import mlflow\n",
    "\n",
    "mlflow.set_tracking_uri(MLFLOW_TRACKING_URI)"
   ]
  },
  {
   "cell_type": "code",
   "execution_count": 38,
   "id": "181d90df1e449da3",
   "metadata": {
    "collapsed": false
   },
   "outputs": [
    {
     "name": "stderr",
     "output_type": "stream",
     "text": [
      "Registered model 'nyc-taxi-regressor' already exists. Creating a new version of this model...\n",
      "Created version '6' of model 'nyc-taxi-regressor'.\n"
     ]
    },
    {
     "data": {
      "text/plain": [
       "<ModelVersion: aliases=[], creation_timestamp=1743095160027, current_stage='None', description=None, last_updated_timestamp=1743095160027, name='nyc-taxi-regressor', run_id='495ff13a14c84f4b82ceff41ae3ad286', run_link=None, source=('file:///c:/Users/CPE '\n",
       " 'KMUTT/Documents/git/CPE393-MLOps/MLExperimenttracking-cpe393/mlruns/1/495ff13a14c84f4b82ceff41ae3ad286/artifacts/model'), status='READY', status_message=None, tags={}, user_id=None, version=6>"
      ]
     },
     "execution_count": 38,
     "metadata": {},
     "output_type": "execute_result"
    }
   ],
   "source": [
    "run_id = \"495ff13a14c84f4b82ceff41ae3ad286\"  #insert your run id\n",
    "model_uri = f\"runs:/{run_id}/model\"\n",
    "mlflow.register_model(model_uri=model_uri, name=\"nyc-taxi-regressor\")"
   ]
  },
  {
   "cell_type": "code",
   "execution_count": 6,
   "id": "7c8686191b00135",
   "metadata": {
    "collapsed": false
   },
   "outputs": [
    {
     "name": "stdout",
     "output_type": "stream",
     "text": [
      "version: 4, stage: None\n",
      "version: 5, stage: Production\n",
      "version: 6, stage: Staging\n"
     ]
    },
    {
     "name": "stderr",
     "output_type": "stream",
     "text": [
      "C:\\Users\\CPE KMUTT\\AppData\\Local\\Temp\\ipykernel_33984\\1279244624.py:3: FutureWarning: ``mlflow.tracking.client.MlflowClient.get_latest_versions`` is deprecated since 2.9.0. Model registry stages will be removed in a future major release. To learn more about the deprecation of model registry stages, see our migration guide here: https://mlflow.org/docs/latest/model-registry.html#migrating-from-stages\n",
      "  latest_versions = client.get_latest_versions(name=model_name)\n"
     ]
    }
   ],
   "source": [
    "#check model version and stages\n",
    "model_name = \"nyc-taxi-regressor\"\n",
    "latest_versions = client.get_latest_versions(name=model_name)\n",
    "\n",
    "for version in latest_versions:\n",
    "    print(f\"version: {version.version}, stage: {version.current_stage}\")"
   ]
  },
  {
   "cell_type": "code",
   "execution_count": 39,
   "id": "7d00b45ade1c81c8",
   "metadata": {
    "collapsed": false
   },
   "outputs": [
    {
     "name": "stderr",
     "output_type": "stream",
     "text": [
      "C:\\Users\\CPE KMUTT\\AppData\\Local\\Temp\\ipykernel_5012\\2886883918.py:4: FutureWarning: ``mlflow.tracking.client.MlflowClient.transition_model_version_stage`` is deprecated since 2.9.0. Model registry stages will be removed in a future major release. To learn more about the deprecation of model registry stages, see our migration guide here: https://mlflow.org/docs/latest/model-registry.html#migrating-from-stages\n",
      "  client.transition_model_version_stage(\n"
     ]
    },
    {
     "data": {
      "text/plain": [
       "<ModelVersion: aliases=[], creation_timestamp=1743095160027, current_stage='Staging', description=None, last_updated_timestamp=1743095168640, name='nyc-taxi-regressor', run_id='495ff13a14c84f4b82ceff41ae3ad286', run_link=None, source=('file:///c:/Users/CPE '\n",
       " 'KMUTT/Documents/git/CPE393-MLOps/MLExperimenttracking-cpe393/mlruns/1/495ff13a14c84f4b82ceff41ae3ad286/artifacts/model'), status='READY', status_message=None, tags={}, user_id=None, version=6>"
      ]
     },
     "execution_count": 39,
     "metadata": {},
     "output_type": "execute_result"
    }
   ],
   "source": [
    "model_version = 6\n",
    "new_stage = \"Staging\"\n",
    "\n",
    "client.transition_model_version_stage(\n",
    "  name=model_name,\n",
    "  version=model_version,\n",
    "  stage=new_stage,\n",
    "  archive_existing_versions=False\n",
    ")"
   ]
  },
  {
   "cell_type": "markdown",
   "id": "973a18941abe32fa",
   "metadata": {
    "collapsed": false
   },
   "source": [
    "Comparing versions and selecting the new \"Production\" model\n",
    "In the last section, we will retrieve models registered in the model registry and compare their performance on an unseen test set. The idea is to simulate the scenario in which a deployment engineer has to interact with the model registry to decide whether to update the model version that is in production or not.\n",
    "\n",
    "These are the steps:\n",
    "\n",
    "Load the test dataset, which corresponds to the NYC Green Taxi data from the month of March 2021.\n",
    "Download the DictVectorizer that was fitted using the training data and saved to MLflow as an artifact, and load it with pickle.\n",
    "Preprocess the test set using the DictVectorizer so we can properly feed the regressors.\n",
    "Make predictions on the test set using the model versions that are currently in the \"Staging\" and \"Production\" stages, and compare their performance.\n",
    "Based on the results, update the \"Production\" model version accordingly.\n"
   ]
  },
  {
   "cell_type": "code",
   "execution_count": 12,
   "id": "3bfae2c2",
   "metadata": {},
   "outputs": [
    {
     "name": "stderr",
     "output_type": "stream",
     "text": [
      "C:\\Users\\CPE KMUTT\\AppData\\Local\\Temp\\ipykernel_33984\\2313334523.py:7: DtypeWarning: Columns (3) have mixed types. Specify dtype option on import or set low_memory=False.\n",
      "  test_data = pd.read_csv(\"green_tripdata_2021-03.csv.gz\", compression='gzip')  # Replace with the actual path to your test dataset\n"
     ]
    },
    {
     "name": "stdout",
     "output_type": "stream",
     "text": [
      "Production Model RMSE (version 5): 143.7272\n",
      "Staging Model RMSE (version 6): 147.8844\n",
      "The Production model performs better or is comparable. No promotion needed.\n"
     ]
    }
   ],
   "source": [
    "import pandas as pd\n",
    "import pickle\n",
    "from sklearn.metrics import mean_squared_error\n",
    "import mlflow.pyfunc\n",
    "\n",
    "# Load the test dataset\n",
    "test_data = pd.read_csv(\"green_tripdata_2021-03.csv.gz\", compression='gzip')  # Replace with the actual path to your test dataset\n",
    "\n",
    "# Preprocess the test dataset\n",
    "with open(\"dict_vectorizer.pkl\", \"rb\") as f:\n",
    "  dv = pickle.load(f)\n",
    "\n",
    "# Retrieve the Production and Staging model versions\n",
    "production_version = next((v for v in latest_versions if v.current_stage == \"Production\"), None)\n",
    "staging_version = next((v for v in latest_versions if v.current_stage == \"Staging\"), None)\n",
    "\n",
    "# Prepare the test dataset for prediction\n",
    "X_test = dv.transform(test_data.drop(columns=[\"total_amount\"]).to_dict(orient=\"records\"))\n",
    "y_test = test_data[\"total_amount\"]\n",
    "\n",
    "if production_version and staging_version:\n",
    "  # Load the Production model\n",
    "  production_model = mlflow.pyfunc.load_model(model_uri=f\"models:/{model_name}/{production_version.version}\")\n",
    "  y_pred_production = production_model.predict(X_test)\n",
    "  production_rmse = mean_squared_error(y_test, y_pred_production)\n",
    "\n",
    "  # Load the Staging model\n",
    "  staging_model = mlflow.pyfunc.load_model(model_uri=f\"models:/{model_name}/{staging_version.version}\")\n",
    "  y_pred_staging = staging_model.predict(X_test)\n",
    "  staging_rmse = mean_squared_error(y_test, y_pred_staging)\n",
    "\n",
    "  # Compare the RMSE values\n",
    "  print(f\"Production Model RMSE (version {production_version.version}): {production_rmse:.4f}\")\n",
    "  print(f\"Staging Model RMSE (version {staging_version.version}): {staging_rmse:.4f}\")\n",
    "  \n",
    "  # Update the model\n",
    "  if staging_rmse < production_rmse:\n",
    "    print(\"The Staging model performs better and will be promoted to Production.\")\n",
    "    client.transition_model_version_stage(\n",
    "      name=model_name,\n",
    "      version=staging_version.version,\n",
    "      stage=\"Production\",\n",
    "      archive_existing_versions=True\n",
    "    )\n",
    "  else:\n",
    "    print(\"The Production model performs better or is comparable. No promotion needed.\")\n",
    "else:\n",
    "  print(\"Either the Production or Staging model version is missing.\")"
   ]
  },
  {
   "cell_type": "code",
   "execution_count": null,
   "id": "eaaff1c9",
   "metadata": {},
   "outputs": [],
   "source": []
  }
 ],
 "metadata": {
  "kernelspec": {
   "display_name": ".venv",
   "language": "python",
   "name": "python3"
  },
  "language_info": {
   "codemirror_mode": {
    "name": "ipython",
    "version": 3
   },
   "file_extension": ".py",
   "mimetype": "text/x-python",
   "name": "python",
   "nbconvert_exporter": "python",
   "pygments_lexer": "ipython3",
   "version": "3.12.4"
  }
 },
 "nbformat": 4,
 "nbformat_minor": 5
}
